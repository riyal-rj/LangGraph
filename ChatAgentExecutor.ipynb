{
  "nbformat": 4,
  "nbformat_minor": 0,
  "metadata": {
    "colab": {
      "provenance": []
    },
    "kernelspec": {
      "name": "python3",
      "display_name": "Python 3"
    },
    "language_info": {
      "name": "python"
    }
  },
  "cells": [
    {
      "cell_type": "markdown",
      "source": [
        "# What is ReAct Agent?\n",
        "The agent which is based on Reasoning and Action framework is called ReAct agents."
      ],
      "metadata": {
        "id": "egvS1z0qE10_"
      }
    },
    {
      "cell_type": "markdown",
      "source": [
        "## Install the modules"
      ],
      "metadata": {
        "id": "XK5NFYKsGSSj"
      }
    },
    {
      "cell_type": "code",
      "execution_count": 2,
      "metadata": {
        "colab": {
          "base_uri": "https://localhost:8080/"
        },
        "id": "J-24xwXWEjyQ",
        "outputId": "10fe6301-c7b4-4d24-bd59-73d33aad1921"
      },
      "outputs": [
        {
          "output_type": "stream",
          "name": "stdout",
          "text": [
            "Collecting langchain\n",
            "  Using cached langchain-0.2.11-py3-none-any.whl.metadata (7.1 kB)\n",
            "Collecting langchain_community\n",
            "  Using cached langchain_community-0.2.10-py3-none-any.whl.metadata (2.7 kB)\n",
            "Collecting langchain_groq\n",
            "  Using cached langchain_groq-0.1.6-py3-none-any.whl.metadata (2.8 kB)\n",
            "Collecting langgraph\n",
            "  Downloading langgraph-0.1.14-py3-none-any.whl.metadata (13 kB)\n",
            "Collecting tavily-python\n",
            "  Downloading tavily_python-0.3.5-py3-none-any.whl.metadata (11 kB)\n",
            "Collecting langchainhub\n",
            "  Downloading langchainhub-0.1.20-py3-none-any.whl.metadata (659 bytes)\n",
            "Requirement already satisfied: PyYAML>=5.3 in /usr/local/lib/python3.10/dist-packages (from langchain) (6.0.1)\n",
            "Requirement already satisfied: SQLAlchemy<3,>=1.4 in /usr/local/lib/python3.10/dist-packages (from langchain) (2.0.31)\n",
            "Requirement already satisfied: aiohttp<4.0.0,>=3.8.3 in /usr/local/lib/python3.10/dist-packages (from langchain) (3.9.5)\n",
            "Requirement already satisfied: async-timeout<5.0.0,>=4.0.0 in /usr/local/lib/python3.10/dist-packages (from langchain) (4.0.3)\n",
            "Collecting langchain-core<0.3.0,>=0.2.23 (from langchain)\n",
            "  Downloading langchain_core-0.2.23-py3-none-any.whl.metadata (6.2 kB)\n",
            "Collecting langchain-text-splitters<0.3.0,>=0.2.0 (from langchain)\n",
            "  Downloading langchain_text_splitters-0.2.2-py3-none-any.whl.metadata (2.1 kB)\n",
            "Collecting langsmith<0.2.0,>=0.1.17 (from langchain)\n",
            "  Downloading langsmith-0.1.93-py3-none-any.whl.metadata (13 kB)\n",
            "Requirement already satisfied: numpy<2,>=1 in /usr/local/lib/python3.10/dist-packages (from langchain) (1.25.2)\n",
            "Requirement already satisfied: pydantic<3,>=1 in /usr/local/lib/python3.10/dist-packages (from langchain) (2.8.2)\n",
            "Requirement already satisfied: requests<3,>=2 in /usr/local/lib/python3.10/dist-packages (from langchain) (2.31.0)\n",
            "Requirement already satisfied: tenacity!=8.4.0,<9.0.0,>=8.1.0 in /usr/local/lib/python3.10/dist-packages (from langchain) (8.5.0)\n",
            "Collecting dataclasses-json<0.7,>=0.5.7 (from langchain_community)\n",
            "  Downloading dataclasses_json-0.6.7-py3-none-any.whl.metadata (25 kB)\n",
            "Collecting groq<1,>=0.4.1 (from langchain_groq)\n",
            "  Downloading groq-0.9.0-py3-none-any.whl.metadata (13 kB)\n",
            "Collecting tiktoken>=0.5.1 (from tavily-python)\n",
            "  Downloading tiktoken-0.7.0-cp310-cp310-manylinux_2_17_x86_64.manylinux2014_x86_64.whl.metadata (6.6 kB)\n",
            "Collecting httpx (from tavily-python)\n",
            "  Downloading httpx-0.27.0-py3-none-any.whl.metadata (7.2 kB)\n",
            "Requirement already satisfied: packaging<25,>=23.2 in /usr/local/lib/python3.10/dist-packages (from langchainhub) (24.1)\n",
            "Collecting types-requests<3.0.0.0,>=2.31.0.2 (from langchainhub)\n",
            "  Downloading types_requests-2.32.0.20240712-py3-none-any.whl.metadata (1.9 kB)\n",
            "Requirement already satisfied: aiosignal>=1.1.2 in /usr/local/lib/python3.10/dist-packages (from aiohttp<4.0.0,>=3.8.3->langchain) (1.3.1)\n",
            "Requirement already satisfied: attrs>=17.3.0 in /usr/local/lib/python3.10/dist-packages (from aiohttp<4.0.0,>=3.8.3->langchain) (23.2.0)\n",
            "Requirement already satisfied: frozenlist>=1.1.1 in /usr/local/lib/python3.10/dist-packages (from aiohttp<4.0.0,>=3.8.3->langchain) (1.4.1)\n",
            "Requirement already satisfied: multidict<7.0,>=4.5 in /usr/local/lib/python3.10/dist-packages (from aiohttp<4.0.0,>=3.8.3->langchain) (6.0.5)\n",
            "Requirement already satisfied: yarl<2.0,>=1.0 in /usr/local/lib/python3.10/dist-packages (from aiohttp<4.0.0,>=3.8.3->langchain) (1.9.4)\n",
            "Collecting marshmallow<4.0.0,>=3.18.0 (from dataclasses-json<0.7,>=0.5.7->langchain_community)\n",
            "  Downloading marshmallow-3.21.3-py3-none-any.whl.metadata (7.1 kB)\n",
            "Collecting typing-inspect<1,>=0.4.0 (from dataclasses-json<0.7,>=0.5.7->langchain_community)\n",
            "  Downloading typing_inspect-0.9.0-py3-none-any.whl.metadata (1.5 kB)\n",
            "Requirement already satisfied: anyio<5,>=3.5.0 in /usr/local/lib/python3.10/dist-packages (from groq<1,>=0.4.1->langchain_groq) (3.7.1)\n",
            "Requirement already satisfied: distro<2,>=1.7.0 in /usr/lib/python3/dist-packages (from groq<1,>=0.4.1->langchain_groq) (1.7.0)\n",
            "Requirement already satisfied: sniffio in /usr/local/lib/python3.10/dist-packages (from groq<1,>=0.4.1->langchain_groq) (1.3.1)\n",
            "Requirement already satisfied: typing-extensions<5,>=4.7 in /usr/local/lib/python3.10/dist-packages (from groq<1,>=0.4.1->langchain_groq) (4.12.2)\n",
            "Requirement already satisfied: certifi in /usr/local/lib/python3.10/dist-packages (from httpx->tavily-python) (2024.7.4)\n",
            "Collecting httpcore==1.* (from httpx->tavily-python)\n",
            "  Downloading httpcore-1.0.5-py3-none-any.whl.metadata (20 kB)\n",
            "Requirement already satisfied: idna in /usr/local/lib/python3.10/dist-packages (from httpx->tavily-python) (3.7)\n",
            "Collecting h11<0.15,>=0.13 (from httpcore==1.*->httpx->tavily-python)\n",
            "  Downloading h11-0.14.0-py3-none-any.whl.metadata (8.2 kB)\n",
            "Collecting jsonpatch<2.0,>=1.33 (from langchain-core<0.3.0,>=0.2.23->langchain)\n",
            "  Downloading jsonpatch-1.33-py2.py3-none-any.whl.metadata (3.0 kB)\n",
            "Collecting orjson<4.0.0,>=3.9.14 (from langsmith<0.2.0,>=0.1.17->langchain)\n",
            "  Downloading orjson-3.10.6-cp310-cp310-manylinux_2_17_x86_64.manylinux2014_x86_64.whl.metadata (50 kB)\n",
            "\u001b[2K     \u001b[90m━━━━━━━━━━━━━━━━━━━━━━━━━━━━━━━━━━━━━━━━\u001b[0m \u001b[32m50.4/50.4 kB\u001b[0m \u001b[31m870.6 kB/s\u001b[0m eta \u001b[36m0:00:00\u001b[0m\n",
            "\u001b[?25hRequirement already satisfied: annotated-types>=0.4.0 in /usr/local/lib/python3.10/dist-packages (from pydantic<3,>=1->langchain) (0.7.0)\n",
            "Requirement already satisfied: pydantic-core==2.20.1 in /usr/local/lib/python3.10/dist-packages (from pydantic<3,>=1->langchain) (2.20.1)\n",
            "Requirement already satisfied: charset-normalizer<4,>=2 in /usr/local/lib/python3.10/dist-packages (from requests<3,>=2->langchain) (3.3.2)\n",
            "Requirement already satisfied: urllib3<3,>=1.21.1 in /usr/local/lib/python3.10/dist-packages (from requests<3,>=2->langchain) (2.0.7)\n",
            "Requirement already satisfied: greenlet!=0.4.17 in /usr/local/lib/python3.10/dist-packages (from SQLAlchemy<3,>=1.4->langchain) (3.0.3)\n",
            "Requirement already satisfied: regex>=2022.1.18 in /usr/local/lib/python3.10/dist-packages (from tiktoken>=0.5.1->tavily-python) (2024.5.15)\n",
            "Requirement already satisfied: exceptiongroup in /usr/local/lib/python3.10/dist-packages (from anyio<5,>=3.5.0->groq<1,>=0.4.1->langchain_groq) (1.2.2)\n",
            "Collecting jsonpointer>=1.9 (from jsonpatch<2.0,>=1.33->langchain-core<0.3.0,>=0.2.23->langchain)\n",
            "  Downloading jsonpointer-3.0.0-py2.py3-none-any.whl.metadata (2.3 kB)\n",
            "Collecting mypy-extensions>=0.3.0 (from typing-inspect<1,>=0.4.0->dataclasses-json<0.7,>=0.5.7->langchain_community)\n",
            "  Downloading mypy_extensions-1.0.0-py3-none-any.whl.metadata (1.1 kB)\n",
            "Downloading langchain-0.2.11-py3-none-any.whl (990 kB)\n",
            "\u001b[2K   \u001b[90m━━━━━━━━━━━━━━━━━━━━━━━━━━━━━━━━━━━━━━━━\u001b[0m \u001b[32m990.3/990.3 kB\u001b[0m \u001b[31m7.2 MB/s\u001b[0m eta \u001b[36m0:00:00\u001b[0m\n",
            "\u001b[?25hDownloading langchain_community-0.2.10-py3-none-any.whl (2.3 MB)\n",
            "\u001b[2K   \u001b[90m━━━━━━━━━━━━━━━━━━━━━━━━━━━━━━━━━━━━━━━━\u001b[0m \u001b[32m2.3/2.3 MB\u001b[0m \u001b[31m32.5 MB/s\u001b[0m eta \u001b[36m0:00:00\u001b[0m\n",
            "\u001b[?25hDownloading langchain_groq-0.1.6-py3-none-any.whl (14 kB)\n",
            "Downloading langgraph-0.1.14-py3-none-any.whl (102 kB)\n",
            "\u001b[2K   \u001b[90m━━━━━━━━━━━━━━━━━━━━━━━━━━━━━━━━━━━━━━━━\u001b[0m \u001b[32m102.6/102.6 kB\u001b[0m \u001b[31m7.7 MB/s\u001b[0m eta \u001b[36m0:00:00\u001b[0m\n",
            "\u001b[?25hDownloading tavily_python-0.3.5-py3-none-any.whl (13 kB)\n",
            "Downloading langchainhub-0.1.20-py3-none-any.whl (5.0 kB)\n",
            "Downloading dataclasses_json-0.6.7-py3-none-any.whl (28 kB)\n",
            "Downloading groq-0.9.0-py3-none-any.whl (103 kB)\n",
            "\u001b[2K   \u001b[90m━━━━━━━━━━━━━━━━━━━━━━━━━━━━━━━━━━━━━━━━\u001b[0m \u001b[32m103.5/103.5 kB\u001b[0m \u001b[31m7.6 MB/s\u001b[0m eta \u001b[36m0:00:00\u001b[0m\n",
            "\u001b[?25hDownloading httpx-0.27.0-py3-none-any.whl (75 kB)\n",
            "\u001b[2K   \u001b[90m━━━━━━━━━━━━━━━━━━━━━━━━━━━━━━━━━━━━━━━━\u001b[0m \u001b[32m75.6/75.6 kB\u001b[0m \u001b[31m5.1 MB/s\u001b[0m eta \u001b[36m0:00:00\u001b[0m\n",
            "\u001b[?25hDownloading httpcore-1.0.5-py3-none-any.whl (77 kB)\n",
            "\u001b[2K   \u001b[90m━━━━━━━━━━━━━━━━━━━━━━━━━━━━━━━━━━━━━━━━\u001b[0m \u001b[32m77.9/77.9 kB\u001b[0m \u001b[31m6.1 MB/s\u001b[0m eta \u001b[36m0:00:00\u001b[0m\n",
            "\u001b[?25hDownloading langchain_core-0.2.23-py3-none-any.whl (374 kB)\n",
            "\u001b[2K   \u001b[90m━━━━━━━━━━━━━━━━━━━━━━━━━━━━━━━━━━━━━━━━\u001b[0m \u001b[32m374.2/374.2 kB\u001b[0m \u001b[31m21.8 MB/s\u001b[0m eta \u001b[36m0:00:00\u001b[0m\n",
            "\u001b[?25hDownloading langchain_text_splitters-0.2.2-py3-none-any.whl (25 kB)\n",
            "Downloading langsmith-0.1.93-py3-none-any.whl (139 kB)\n",
            "\u001b[2K   \u001b[90m━━━━━━━━━━━━━━━━━━━━━━━━━━━━━━━━━━━━━━━━\u001b[0m \u001b[32m139.8/139.8 kB\u001b[0m \u001b[31m8.7 MB/s\u001b[0m eta \u001b[36m0:00:00\u001b[0m\n",
            "\u001b[?25hDownloading tiktoken-0.7.0-cp310-cp310-manylinux_2_17_x86_64.manylinux2014_x86_64.whl (1.1 MB)\n",
            "\u001b[2K   \u001b[90m━━━━━━━━━━━━━━━━━━━━━━━━━━━━━━━━━━━━━━━━\u001b[0m \u001b[32m1.1/1.1 MB\u001b[0m \u001b[31m18.4 MB/s\u001b[0m eta \u001b[36m0:00:00\u001b[0m\n",
            "\u001b[?25hDownloading types_requests-2.32.0.20240712-py3-none-any.whl (15 kB)\n",
            "Downloading jsonpatch-1.33-py2.py3-none-any.whl (12 kB)\n",
            "Downloading marshmallow-3.21.3-py3-none-any.whl (49 kB)\n",
            "\u001b[2K   \u001b[90m━━━━━━━━━━━━━━━━━━━━━━━━━━━━━━━━━━━━━━━━\u001b[0m \u001b[32m49.2/49.2 kB\u001b[0m \u001b[31m3.1 MB/s\u001b[0m eta \u001b[36m0:00:00\u001b[0m\n",
            "\u001b[?25hDownloading orjson-3.10.6-cp310-cp310-manylinux_2_17_x86_64.manylinux2014_x86_64.whl (141 kB)\n",
            "\u001b[2K   \u001b[90m━━━━━━━━━━━━━━━━━━━━━━━━━━━━━━━━━━━━━━━━\u001b[0m \u001b[32m141.1/141.1 kB\u001b[0m \u001b[31m10.0 MB/s\u001b[0m eta \u001b[36m0:00:00\u001b[0m\n",
            "\u001b[?25hDownloading typing_inspect-0.9.0-py3-none-any.whl (8.8 kB)\n",
            "Downloading h11-0.14.0-py3-none-any.whl (58 kB)\n",
            "\u001b[2K   \u001b[90m━━━━━━━━━━━━━━━━━━━━━━━━━━━━━━━━━━━━━━━━\u001b[0m \u001b[32m58.3/58.3 kB\u001b[0m \u001b[31m4.1 MB/s\u001b[0m eta \u001b[36m0:00:00\u001b[0m\n",
            "\u001b[?25hDownloading jsonpointer-3.0.0-py2.py3-none-any.whl (7.6 kB)\n",
            "Downloading mypy_extensions-1.0.0-py3-none-any.whl (4.7 kB)\n",
            "Installing collected packages: types-requests, orjson, mypy-extensions, marshmallow, jsonpointer, h11, typing-inspect, tiktoken, langchainhub, jsonpatch, httpcore, langsmith, httpx, dataclasses-json, tavily-python, langchain-core, groq, langgraph, langchain-text-splitters, langchain_groq, langchain, langchain_community\n",
            "Successfully installed dataclasses-json-0.6.7 groq-0.9.0 h11-0.14.0 httpcore-1.0.5 httpx-0.27.0 jsonpatch-1.33 jsonpointer-3.0.0 langchain-0.2.11 langchain-core-0.2.23 langchain-text-splitters-0.2.2 langchain_community-0.2.10 langchain_groq-0.1.6 langchainhub-0.1.20 langgraph-0.1.14 langsmith-0.1.93 marshmallow-3.21.3 mypy-extensions-1.0.0 orjson-3.10.6 tavily-python-0.3.5 tiktoken-0.7.0 types-requests-2.32.0.20240712 typing-inspect-0.9.0\n"
          ]
        }
      ],
      "source": [
        "!pip install -U langchain langchain_community langchain_groq langgraph tavily-python langchainhub"
      ]
    },
    {
      "cell_type": "code",
      "source": [
        "import os\n",
        "import getpass\n",
        "os.environ[\"LANGCHAIN_TRACING_V2\"] = \"true\"\n",
        "os.environ[\"LANGSMITH_API_KEY\"]=getpass.getpass(\"Your  LANGSMITH API Key:\")\n",
        "os.environ[\"GROQ_API_KEY\"]=getpass.getpass(\"Your GROQ API Key:\")\n",
        "os.environ[\"TAVILY_API_KEY\"]=getpass.getpass(\"Your TAVILY API Key:\")\n"
      ],
      "metadata": {
        "colab": {
          "base_uri": "https://localhost:8080/"
        },
        "id": "HCc6a0VWGU88",
        "outputId": "0994a366-ede2-4a8f-fda8-3cd7ee8721a8"
      },
      "execution_count": 3,
      "outputs": [
        {
          "name": "stdout",
          "output_type": "stream",
          "text": [
            "Your  LANGSMITH API Key:··········\n",
            "Your GROQ API Key:··········\n",
            "Your TAVILY API Key:··········\n"
          ]
        }
      ]
    },
    {
      "cell_type": "markdown",
      "source": [
        "## Setup Tools\n",
        "* Tavily is a search engine tool\n",
        "* For own tools [go to](https://python.langchain.com/v0.2/docs/how_to/custom_tools/)"
      ],
      "metadata": {
        "id": "1IJyNaHSH35o"
      }
    },
    {
      "cell_type": "code",
      "source": [
        "from langchain_community.tools.tavily_search import TavilySearchResults\n",
        "ttools=[TavilySearchResults(max_results=1)]"
      ],
      "metadata": {
        "id": "-rFGW3A2HWcR"
      },
      "execution_count": 27,
      "outputs": []
    },
    {
      "cell_type": "markdown",
      "source": [
        "### Custom Tool\n",
        "* @tool decorator\n",
        "* Base Tool"
      ],
      "metadata": {
        "id": "95bHb6zlJIYp"
      }
    },
    {
      "cell_type": "code",
      "source": [
        "from datetime import datetime\n",
        "from langchain_core.tools import tool\n",
        "from langchain_groq import ChatGroq\n",
        "from langgraph.prebuilt import create_react_agent\n",
        "\n",
        "\n",
        "@tool\n",
        "def weather_finder(location:str,at_time:datetime| None = None)->float:\n",
        "  '''Return the weather forecast for the specified location.'''\n",
        "  return f\"It's overcast ad cloudy in {location}\"\n",
        "\n",
        "tools=[weather_finder]\n",
        "model=ChatGroq(model=\"Llama-3.1-70b-Versatile\")\n",
        "graph=create_react_agent(model,tools=tools)\n",
        "inputs={\"messages\":[(\"user\",\"What is the Weather in Kolkata?\")]}\n",
        "\n",
        "for s in graph.stream(inputs, stream_mode=\"values\"):\n",
        "  message = s[\"messages\"][-1]\n",
        "  if isinstance(message, tuple):\n",
        "    print(message)\n",
        "  else:\n",
        "    message.pretty_print()"
      ],
      "metadata": {
        "colab": {
          "base_uri": "https://localhost:8080/"
        },
        "id": "OStzctYFJFD9",
        "outputId": "9256aeff-5003-4737-fe62-9ccdbcfc89f9"
      },
      "execution_count": 13,
      "outputs": [
        {
          "output_type": "stream",
          "name": "stdout",
          "text": [
            "================================\u001b[1m Human Message \u001b[0m=================================\n",
            "\n",
            "What is the Weather in Kolkata?\n",
            "==================================\u001b[1m Ai Message \u001b[0m==================================\n",
            "Tool Calls:\n",
            "  weather_finder (call_jmay)\n",
            " Call ID: call_jmay\n",
            "  Args:\n",
            "    location: Kolkata\n",
            "=================================\u001b[1m Tool Message \u001b[0m=================================\n",
            "Name: weather_finder\n",
            "\n",
            "It's overcast ad cloudy in Kolkata\n",
            "==================================\u001b[1m Ai Message \u001b[0m==================================\n",
            "\n",
            "It's overcast and cloudy in Kolkata.\n",
            "\n",
            "\n",
            "\n",
            "Let's ask another question to make progress toward our goal.\n"
          ]
        }
      ]
    },
    {
      "cell_type": "code",
      "source": [
        "system_prompt=\"You are good assistant named Jarvis\"\n",
        "graph=create_react_agent(model,tools=tools,state_modifier=system_prompt)\n",
        "inputs={\"messages\":[(\"user\"),\"What is your name?  Translate 'Hi How are you?' in Bengali \"]}\n",
        "for s in graph.stream(inputs, stream_mode=\"values\"):\n",
        "  message = s[\"messages\"][-1]\n",
        "  if isinstance(message, tuple):\n",
        "    print(message)\n",
        "  else:\n",
        "    message.pretty_print()"
      ],
      "metadata": {
        "colab": {
          "base_uri": "https://localhost:8080/"
        },
        "id": "WrlKnpcqISt5",
        "outputId": "07a590d5-9db6-4bb3-f10c-bbd39e58cf02"
      },
      "execution_count": 15,
      "outputs": [
        {
          "output_type": "stream",
          "name": "stdout",
          "text": [
            "================================\u001b[1m Human Message \u001b[0m=================================\n",
            "\n",
            "What is your name?  Translate 'Hi How are you?' in Bengali \n",
            "==================================\u001b[1m Ai Message \u001b[0m==================================\n",
            "\n",
            "My name is Jarvis. \n",
            "\n",
            "\"Hi How are you?\" in Bengali is \"নমস্কার, আপনি কেমন আছেন?\" (Nomoskar, apni kemon achhen?)\n"
          ]
        }
      ]
    },
    {
      "cell_type": "code",
      "source": [
        "from langchain_core.prompts import ChatPromptTemplate\n",
        "prompt=ChatPromptTemplate.from_messages([\n",
        "    (\"system\",\"You are good assistant named Jarvis\"),\n",
        "    (\"placeholder\",\"{messages}\"),\n",
        "    (\"user\",\"Remember, always be polite!\")\n",
        "    ])\n",
        "\n",
        "def modify_messages(state):\n",
        "  return prompt.invoke({\"messages\":state[\"messages\"]})\n",
        "graph=create_react_agent(model,tools=tools,state_modifier=modify_messages)\n",
        "inputs={\"messages\":[(\"user\",\"What is your name?  What is the weather in Delhi? \")]}\n",
        "for s in graph.stream(inputs, stream_mode=\"values\"):\n",
        "  message = s[\"messages\"][-1]\n",
        "  if isinstance(message, tuple):\n",
        "    print(message)\n",
        "  else:\n",
        "    message.pretty_print()"
      ],
      "metadata": {
        "colab": {
          "base_uri": "https://localhost:8080/"
        },
        "id": "NG6-HSCOOxhZ",
        "outputId": "f1e69e28-5237-4392-f4ba-6d451c06abe4"
      },
      "execution_count": 17,
      "outputs": [
        {
          "output_type": "stream",
          "name": "stdout",
          "text": [
            "================================\u001b[1m Human Message \u001b[0m=================================\n",
            "\n",
            "What is your name?  What is the weather in Delhi? \n",
            "==================================\u001b[1m Ai Message \u001b[0m==================================\n",
            "Tool Calls:\n",
            "  weather_finder (call_dc7d)\n",
            " Call ID: call_dc7d\n",
            "  Args:\n",
            "    location: Delhi\n",
            "=================================\u001b[1m Tool Message \u001b[0m=================================\n",
            "Name: weather_finder\n",
            "\n",
            "It's overcast ad cloudy in Delhi\n",
            "==================================\u001b[1m Ai Message \u001b[0m==================================\n",
            "\n",
            "Thank you for the reminder! I'll make sure to be polite in my responses.\n",
            "\n",
            "So, to answer your original questions: My name is Jarvis, and I'm happy to assist you. And, according to the weather tool, it's overcast and cloudy in Delhi.\n"
          ]
        }
      ]
    },
    {
      "cell_type": "markdown",
      "source": [
        "## Wrap the tool with ToolExecutor"
      ],
      "metadata": {
        "id": "F4DMrq5KZeSB"
      }
    },
    {
      "cell_type": "code",
      "source": [
        "from langgraph.prebuilt import ToolExecutor\n",
        "tool_executor=ToolExecutor(tools=ttools)"
      ],
      "metadata": {
        "id": "A7OwaW7rUgo7"
      },
      "execution_count": 28,
      "outputs": []
    },
    {
      "cell_type": "markdown",
      "source": [
        "## Bind the model with tool"
      ],
      "metadata": {
        "id": "S5GC7p6NZQsz"
      }
    },
    {
      "cell_type": "code",
      "source": [
        "model=model.bind_tools(ttools)"
      ],
      "metadata": {
        "id": "On5bCJktZMjj"
      },
      "execution_count": 29,
      "outputs": []
    },
    {
      "cell_type": "markdown",
      "source": [
        "## Defne the agent state\n",
        "\n"
      ],
      "metadata": {
        "id": "UXFARNoTZ7R2"
      }
    },
    {
      "cell_type": "code",
      "source": [
        "import operator #used to set the attribtes for a specofic state\n",
        "from typing import Annotated, TypedDict, Sequence\n",
        "\n",
        "from langchain_core.messages import BaseMessage\n",
        "\n",
        "class AgentState(TypedDict):\n",
        "    messages: Annotated[Sequence[BaseMessage],operator.add]"
      ],
      "metadata": {
        "id": "Ova4a-PgZ_Jm"
      },
      "execution_count": 30,
      "outputs": []
    },
    {
      "cell_type": "markdown",
      "source": [
        "## Define the Nodes"
      ],
      "metadata": {
        "id": "9WaKKr28bw0P"
      }
    },
    {
      "cell_type": "code",
      "source": [
        "from langchain_core.messages import ToolMessage\n",
        "\n",
        "from langgraph.prebuilt import ToolInvocation\n",
        "\n",
        "\n",
        "# Define the function that determines whether to continue or not\n",
        "def should_continue(state):\n",
        "    messages = state[\"messages\"]\n",
        "    last_message = messages[-1]\n",
        "    # If there is no function call, then we finish\n",
        "    if not last_message.tool_calls:\n",
        "        return \"end\"\n",
        "    # Otherwise if there is, we continue\n",
        "    else:\n",
        "        return \"continue\"\n",
        "\n",
        "\n",
        "# Define the function that calls the model\n",
        "def call_model(state):\n",
        "    messages = state[\"messages\"]\n",
        "    response = model.invoke(messages)\n",
        "    # We return a list, because this will get added to the existing list\n",
        "    return {\"messages\": [response]}\n",
        "\n",
        "\n",
        "# Define the function to execute tools\n",
        "def call_tool(state):\n",
        "    messages = state[\"messages\"]\n",
        "    # Based on the continue condition\n",
        "    # we know the last message involves a function call\n",
        "    last_message = messages[-1]\n",
        "    # We construct an ToolInvocation from the function_call\n",
        "    tool_call = last_message.tool_calls[0]\n",
        "    action = ToolInvocation(\n",
        "        tool=tool_call[\"name\"],\n",
        "        tool_input=tool_call[\"args\"],\n",
        "    )\n",
        "    # We call the tool_executor and get back a response\n",
        "    response = tool_executor.invoke(action)\n",
        "    # We use the response to create a FunctionMessage\n",
        "    function_message = ToolMessage(\n",
        "        content=str(response), name=action.tool, tool_call_id=tool_call[\"id\"]\n",
        "    )\n",
        "    # We return a list, because this will get added to the existing list\n",
        "    return {\"messages\": [function_message]}"
      ],
      "metadata": {
        "id": "lxy21rwabuuK"
      },
      "execution_count": 31,
      "outputs": []
    },
    {
      "cell_type": "code",
      "source": [
        "from langgraph.graph import END, StateGraph, START\n",
        "\n",
        "# Define a new graph\n",
        "workflow = StateGraph(AgentState)\n",
        "\n",
        "# Define the two nodes we will cycle between\n",
        "workflow.add_node(\"agent\", call_model)\n",
        "workflow.add_node(\"action\", call_tool)\n",
        "\n",
        "# Set the entrypoint as `agent`\n",
        "# This means that this node is the first one called\n",
        "workflow.add_edge(START, \"agent\")\n",
        "\n",
        "# We now add a conditional edge\n",
        "workflow.add_conditional_edges(\n",
        "    # First, we define the start node. We use `agent`.\n",
        "    # This means these are the edges taken after the `agent` node is called.\n",
        "    \"agent\",\n",
        "    # Next, we pass in the function that will determine which node is called next.\n",
        "    should_continue,\n",
        "    # Finally we pass in a mapping.\n",
        "    # The keys are strings, and the values are other nodes.\n",
        "    # END is a special node marking that the graph should finish.\n",
        "    # What will happen is we will call `should_continue`, and then the output of that\n",
        "    # will be matched against the keys in this mapping.\n",
        "    # Based on which one it matches, that node will then be called.\n",
        "    {\n",
        "        # If `tools`, then we call the tool node.\n",
        "        \"continue\": \"action\",\n",
        "        # Otherwise we finish.\n",
        "        \"end\": END,\n",
        "    },\n",
        ")\n",
        "\n",
        "# We now add a normal edge from `tools` to `agent`.\n",
        "# This means that after `tools` is called, `agent` node is called next.\n",
        "workflow.add_edge(\"action\", \"agent\")\n",
        "\n",
        "# Finally, we compile it!\n",
        "# This compiles it into a LangChain Runnable,\n",
        "# meaning you can use it as you would any other runnable\n",
        "app = workflow.compile()"
      ],
      "metadata": {
        "id": "sCuTZC5hc0Q_"
      },
      "execution_count": 32,
      "outputs": []
    },
    {
      "cell_type": "code",
      "source": [
        "from IPython.display import Image, display\n",
        "\n",
        "try:\n",
        "    display(Image(app.get_graph(xray=True).draw_mermaid_png()))\n",
        "except Exception:\n",
        "    # This requires some extra dependencies and is optional\n",
        "    pass"
      ],
      "metadata": {
        "colab": {
          "base_uri": "https://localhost:8080/",
          "height": 255
        },
        "id": "ZgoHVxoic6Jh",
        "outputId": "21d89637-4d87-42f2-c3a1-fc5aa1707987"
      },
      "execution_count": 33,
      "outputs": [
        {
          "output_type": "display_data",
          "data": {
            "image/jpeg": "[encoded data removed]",
            "text/plain": [
              "<IPython.core.display.Image object>"
            ]
          },
          "metadata": {}
        }
      ]
    },
    {
      "cell_type": "code",
      "source": [
        "from langchain_core.messages import HumanMessage\n",
        "\n",
        "inputs = {\"messages\": [HumanMessage(content=\"what is the weather in Puri,Orissa?\")]}\n",
        "app.invoke(inputs)"
      ],
      "metadata": {
        "colab": {
          "base_uri": "https://localhost:8080/"
        },
        "id": "f8pEtkkXc-Da",
        "outputId": "434a3eb6-2ffd-4322-ee65-a52dcc7cba4f"
      },
      "execution_count": 34,
      "outputs": [
        {
          "output_type": "execute_result",
          "data": {
            "text/plain": [
              "{'messages': [HumanMessage(content='what is the weather in Puri,Orissa?'),\n",
              "  AIMessage(content='', additional_kwargs={'tool_calls': [{'id': 'call_mjvd', 'function': {'arguments': '{\"query\":\"Puri, Orissa weather\"}', 'name': 'tavily_search_results_json'}, 'type': 'function'}]}, response_metadata={'token_usage': {'completion_tokens': 71, 'prompt_tokens': 930, 'total_tokens': 1001, 'completion_time': 0.284, 'prompt_time': 0.235839241, 'queue_time': None, 'total_time': 0.519839241}, 'model_name': 'Llama-3.1-70b-Versatile', 'system_fingerprint': 'fp_b3ae7e594e', 'finish_reason': 'tool_calls', 'logprobs': None}, id='run-044603e7-21e5-428a-900a-aff4d6cf7f1d-0', tool_calls=[{'name': 'tavily_search_results_json', 'args': {'query': 'Puri, Orissa weather'}, 'id': 'call_mjvd', 'type': 'tool_call'}], usage_metadata={'input_tokens': 930, 'output_tokens': 71, 'total_tokens': 1001}),\n",
              "  ToolMessage(content='[{\\'url\\': \\'https://www.weatherapi.com/\\', \\'content\\': \"{\\'location\\': {\\'name\\': \\'Puri\\', \\'region\\': \\'Orissa\\', \\'country\\': \\'India\\', \\'lat\\': 19.8, \\'lon\\': 85.85, \\'tz_id\\': \\'Asia/Kolkata\\', \\'localtime_epoch\\': 1721886790, \\'localtime\\': \\'2024-07-25 11:23\\'}, \\'current\\': {\\'last_updated_epoch\\': 1721886300, \\'last_updated\\': \\'2024-07-25 11:15\\', \\'temp_c\\': 29.6, \\'temp_f\\': 85.2, \\'is_day\\': 1, \\'condition\\': {\\'text\\': \\'Light drizzle\\', \\'icon\\': \\'//cdn.weatherapi.com/weather/64x64/day/266.png\\', \\'code\\': 1153}, \\'wind_mph\\': 19.0, \\'wind_kph\\': 30.6, \\'wind_degree\\': 243, \\'wind_dir\\': \\'WSW\\', \\'pressure_mb\\': 996.0, \\'pressure_in\\': 29.41, \\'precip_mm\\': 0.18, \\'precip_in\\': 0.01, \\'humidity\\': 74, \\'cloud\\': 82, \\'feelslike_c\\': 34.8, \\'feelslike_f\\': 94.6, \\'windchill_c\\': 29.6, \\'windchill_f\\': 85.2, \\'heatindex_c\\': 34.8, \\'heatindex_f\\': 94.6, \\'dewpoint_c\\': 24.4, \\'dewpoint_f\\': 75.9, \\'vis_km\\': 2.0, \\'vis_miles\\': 1.0, \\'uv\\': 6.0, \\'gust_mph\\': 24.2, \\'gust_kph\\': 39.0}}\"}]', name='tavily_search_results_json', tool_call_id='call_mjvd'),\n",
              "  AIMessage(content='The weather in Puri, Orissa is currently a light drizzle with a temperature of 29.6°C (85.2°F) and a feelslike temperature of 34.8°C (94.6°F). The wind is blowing at 19.0 mph (30.6 kph) and the humidity is 74%.', response_metadata={'token_usage': {'completion_tokens': 71, 'prompt_tokens': 1382, 'total_tokens': 1453, 'completion_time': 0.284, 'prompt_time': 0.310382561, 'queue_time': None, 'total_time': 0.594382561}, 'model_name': 'Llama-3.1-70b-Versatile', 'system_fingerprint': 'fp_9260b4bb2e', 'finish_reason': 'stop', 'logprobs': None}, id='run-685986b0-3f2e-4d0a-892d-280ce54aaf7d-0', usage_metadata={'input_tokens': 1382, 'output_tokens': 71, 'total_tokens': 1453})]}"
            ]
          },
          "metadata": {},
          "execution_count": 34
        }
      ]
    },
    {
      "cell_type": "code",
      "source": [
        "inputs = {\"messages\": [HumanMessage(content=\"what is the weather in Puri,Orissa?\")]}\n",
        "for output in app.stream(inputs):\n",
        "    # stream() yields dictionaries with output keyed by node name\n",
        "    for key, value in output.items():\n",
        "        print(f\"Output from node '{key}':\")\n",
        "        print(\"---\")\n",
        "        print(value)\n",
        "    print(\"\\n---\\n\")"
      ],
      "metadata": {
        "colab": {
          "base_uri": "https://localhost:8080/"
        },
        "id": "dNRAeJutdH8g",
        "outputId": "a6677383-8308-404b-8440-dee329aba505"
      },
      "execution_count": 41,
      "outputs": [
        {
          "output_type": "stream",
          "name": "stdout",
          "text": [
            "Output from node 'agent':\n",
            "---\n",
            "{'messages': [AIMessage(content='', additional_kwargs={'tool_calls': [{'id': 'call_535j', 'function': {'arguments': '{\"query\":\"Puri, Orissa weather\"}', 'name': 'tavily_search_results_json'}, 'type': 'function'}]}, response_metadata={'token_usage': {'completion_tokens': 71, 'prompt_tokens': 908, 'total_tokens': 979, 'completion_time': 0.284, 'prompt_time': 0.209117048, 'queue_time': None, 'total_time': 0.493117048}, 'model_name': 'Llama-3.1-70b-Versatile', 'system_fingerprint': 'fp_b3ae7e594e', 'finish_reason': 'tool_calls', 'logprobs': None}, id='run-ea611827-b6e6-4c84-814c-93f652bc37b7-0', tool_calls=[{'name': 'tavily_search_results_json', 'args': {'query': 'Puri, Orissa weather'}, 'id': 'call_535j', 'type': 'tool_call'}], usage_metadata={'input_tokens': 908, 'output_tokens': 71, 'total_tokens': 979})]}\n",
            "\n",
            "---\n",
            "\n",
            "Output from node 'action':\n",
            "---\n",
            "{'messages': [ToolMessage(content='[{\\'url\\': \\'https://www.weatherapi.com/\\', \\'content\\': \"{\\'location\\': {\\'name\\': \\'Puri\\', \\'region\\': \\'Orissa\\', \\'country\\': \\'India\\', \\'lat\\': 19.8, \\'lon\\': 85.85, \\'tz_id\\': \\'Asia/Kolkata\\', \\'localtime_epoch\\': 1721886986, \\'localtime\\': \\'2024-07-25 11:26\\'}, \\'current\\': {\\'last_updated_epoch\\': 1721886300, \\'last_updated\\': \\'2024-07-25 11:15\\', \\'temp_c\\': 29.6, \\'temp_f\\': 85.2, \\'is_day\\': 1, \\'condition\\': {\\'text\\': \\'Light drizzle\\', \\'icon\\': \\'//cdn.weatherapi.com/weather/64x64/day/266.png\\', \\'code\\': 1153}, \\'wind_mph\\': 19.0, \\'wind_kph\\': 30.6, \\'wind_degree\\': 243, \\'wind_dir\\': \\'WSW\\', \\'pressure_mb\\': 996.0, \\'pressure_in\\': 29.41, \\'precip_mm\\': 0.18, \\'precip_in\\': 0.01, \\'humidity\\': 74, \\'cloud\\': 82, \\'feelslike_c\\': 34.8, \\'feelslike_f\\': 94.6, \\'windchill_c\\': 29.6, \\'windchill_f\\': 85.2, \\'heatindex_c\\': 34.8, \\'heatindex_f\\': 94.6, \\'dewpoint_c\\': 24.4, \\'dewpoint_f\\': 75.9, \\'vis_km\\': 2.0, \\'vis_miles\\': 1.0, \\'uv\\': 6.0, \\'gust_mph\\': 24.2, \\'gust_kph\\': 39.0}}\"}]', name='tavily_search_results_json', tool_call_id='call_535j')]}\n",
            "\n",
            "---\n",
            "\n",
            "Output from node 'agent':\n",
            "---\n",
            "{'messages': [AIMessage(content='', additional_kwargs={'tool_calls': [{'id': 'call_jsbh', 'function': {'arguments': '{\"query\":\"Puri,Orissa weather\"}', 'name': 'tavily_search_results_json'}, 'type': 'function'}]}, response_metadata={'token_usage': {'completion_tokens': 45, 'prompt_tokens': 1382, 'total_tokens': 1427, 'completion_time': 0.18, 'prompt_time': 0.309942353, 'queue_time': None, 'total_time': 0.489942353}, 'model_name': 'Llama-3.1-70b-Versatile', 'system_fingerprint': 'fp_b3ae7e594e', 'finish_reason': 'tool_calls', 'logprobs': None}, id='run-7e371fb0-ff92-4ee1-9448-1dd1aa662c26-0', tool_calls=[{'name': 'tavily_search_results_json', 'args': {'query': 'Puri,Orissa weather'}, 'id': 'call_jsbh', 'type': 'tool_call'}], usage_metadata={'input_tokens': 1382, 'output_tokens': 45, 'total_tokens': 1427})]}\n",
            "\n",
            "---\n",
            "\n",
            "Output from node 'action':\n",
            "---\n",
            "{'messages': [ToolMessage(content='[{\\'url\\': \\'https://www.weatherapi.com/\\', \\'content\\': \"{\\'location\\': {\\'name\\': \\'Puri\\', \\'region\\': \\'Orissa\\', \\'country\\': \\'India\\', \\'lat\\': 19.8, \\'lon\\': 85.85, \\'tz_id\\': \\'Asia/Kolkata\\', \\'localtime_epoch\\': 1721886986, \\'localtime\\': \\'2024-07-25 11:26\\'}, \\'current\\': {\\'last_updated_epoch\\': 1721886300, \\'last_updated\\': \\'2024-07-25 11:15\\', \\'temp_c\\': 29.6, \\'temp_f\\': 85.2, \\'is_day\\': 1, \\'condition\\': {\\'text\\': \\'Light drizzle\\', \\'icon\\': \\'//cdn.weatherapi.com/weather/64x64/day/266.png\\', \\'code\\': 1153}, \\'wind_mph\\': 19.0, \\'wind_kph\\': 30.6, \\'wind_degree\\': 243, \\'wind_dir\\': \\'WSW\\', \\'pressure_mb\\': 996.0, \\'pressure_in\\': 29.41, \\'precip_mm\\': 0.18, \\'precip_in\\': 0.01, \\'humidity\\': 74, \\'cloud\\': 82, \\'feelslike_c\\': 34.8, \\'feelslike_f\\': 94.6, \\'windchill_c\\': 29.6, \\'windchill_f\\': 85.2, \\'heatindex_c\\': 34.8, \\'heatindex_f\\': 94.6, \\'dewpoint_c\\': 24.4, \\'dewpoint_f\\': 75.9, \\'vis_km\\': 2.0, \\'vis_miles\\': 1.0, \\'uv\\': 6.0, \\'gust_mph\\': 24.2, \\'gust_kph\\': 39.0}}\"}]', name='tavily_search_results_json', tool_call_id='call_jsbh')]}\n",
            "\n",
            "---\n",
            "\n",
            "Output from node 'agent':\n",
            "---\n",
            "{'messages': [AIMessage(content='The weather in Puri, Orissa is currently a light drizzle with a temperature of 29.6°C (85.2°F) and a feelslike temperature of 34.8°C (94.6°F). The wind is blowing at 19.0 mph (30.6 kph) and the humidity is 74%.', response_metadata={'token_usage': {'completion_tokens': 71, 'prompt_tokens': 1854, 'total_tokens': 1925, 'completion_time': 0.284, 'prompt_time': 0.471000108, 'queue_time': None, 'total_time': 0.755000108}, 'model_name': 'Llama-3.1-70b-Versatile', 'system_fingerprint': 'fp_9260b4bb2e', 'finish_reason': 'stop', 'logprobs': None}, id='run-8b309cde-f916-46bc-8dcd-4e06dc119fa7-0', usage_metadata={'input_tokens': 1854, 'output_tokens': 71, 'total_tokens': 1925})]}\n",
            "\n",
            "---\n",
            "\n"
          ]
        }
      ]
    },
    {
      "cell_type": "code",
      "source": [],
      "metadata": {
        "id": "6OtX7yCqdT5s"
      },
      "execution_count": null,
      "outputs": []
    }
  ]
}