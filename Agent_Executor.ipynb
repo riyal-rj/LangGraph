{
  "nbformat": 4,
  "nbformat_minor": 0,
  "metadata": {
    "colab": {
      "provenance": []
    },
    "kernelspec": {
      "name": "python3",
      "display_name": "Python 3"
    },
    "language_info": {
      "name": "python"
    }
  },
  "cells": [
    {
      "cell_type": "code",
      "execution_count": null,
      "metadata": {
        "id": "IUmClsZaxbJK"
      },
      "outputs": [],
      "source": [
        "!pip install --quiet -U langgraph langchain langchain-groq tavily-python langchain-community langchainhub"
      ]
    },
    {
      "cell_type": "code",
      "source": [
        "import os\n",
        "import getpass\n",
        "\n",
        "os.environ[\"TAVILY_API_KEY\"]=getpass.getpass(\"TAVILYAPIKEY\")\n",
        "os.environ[\"GROQ_API_KEY\"]=getpass.getpass(\"GROQAPIKEY\")"
      ],
      "metadata": {
        "colab": {
          "base_uri": "https://localhost:8080/"
        },
        "id": "Hmhk0Sttx88q",
        "outputId": "47fd3e0c-8cf0-464f-b593-b5aa8d442f5d"
      },
      "execution_count": null,
      "outputs": [
        {
          "name": "stdout",
          "output_type": "stream",
          "text": [
            "TAVILYAPIKEY··········\n",
            "GROQAPIKEY··········\n"
          ]
        }
      ]
    },
    {
      "cell_type": "code",
      "source": [
        "from langchain import hub\n",
        "from langchain.agents import create_openai_functions_agent\n",
        "from langchain_groq import ChatGroq\n",
        "from langchain_community.tools.tavily_search import TavilySearchResults"
      ],
      "metadata": {
        "id": "9EWOpxZSy2kk"
      },
      "execution_count": null,
      "outputs": []
    },
    {
      "cell_type": "code",
      "source": [
        "tools=[TavilySearchResults(max_results=1)]\n",
        "\n",
        "prompt=hub.pull(\"hwchase17/openai-functions-agent\")\n",
        "\n",
        "llm=ChatGroq(model=\"gemma-7b-it\")\n",
        "\n",
        "agent_runnable=create_openai_functions_agent(llm,tools,prompt)"
      ],
      "metadata": {
        "id": "phpwvVgFzke_"
      },
      "execution_count": null,
      "outputs": []
    },
    {
      "cell_type": "code",
      "source": [
        "import operator\n",
        "from typing import Annotated, TypedDict, Union\n",
        "\n",
        "from langchain_core.agents import AgentAction,AgentFinish\n",
        "from langchain_core.messages import BaseMessage\n",
        "\n",
        "class AgentState(TypedDict):\n",
        "  input:str #input string i.e. main task of the user\n",
        "  chat_history:list[BaseMessage] #chat history --> prev conv alsopassed  as inputs\n",
        "  agent_outcome:Union[AgentAction,AgentFinish,None] #outcome of teh agent\n",
        "  #by default None when it starts\n",
        "  intermediate_steps:Annotated[list[tuple[AgentAction,str]],operator.add] #corresponding steps"
      ],
      "metadata": {
        "id": "2a1g-DsVXcFx"
      },
      "execution_count": null,
      "outputs": []
    },
    {
      "cell_type": "code",
      "source": [
        "from langchain_core.agents import AgentFinish\n",
        "from langgraph.prebuilt.tool_executor import ToolExecutor\n",
        "\n",
        "tool_executor=ToolExecutor(tools) #helper class to run the tools\n",
        "\n",
        "def invoke_agent(data):\n",
        "  agent_outcome=agent_runnable.invoke(data)\n",
        "  return {\"agent_outcome\":agent_outcome}\n",
        "\n",
        "def execute_tools(data):\n",
        "  #Get the recent agent outcome\n",
        "  agent_action=data[\"agent_outcome\"]\n",
        "  output=tool_executor.invoke(agent_action)\n",
        "  return {\"intermediate_steps\":[(agent_action,str(output))]}\n",
        "\n",
        "def should_continue(data):\n",
        "  if isinstance(data[\"agent_outcome\"],AgentFinish): # If agent outcome is agent finish then we return exit string\n",
        "    return \"end\"\n",
        "  else:\n",
        "    return \"continue\""
      ],
      "metadata": {
        "id": "UYfMLWsQedBA"
      },
      "execution_count": null,
      "outputs": []
    },
    {
      "cell_type": "code",
      "source": [
        "from langgraph.graph import END, StateGraph, START\n",
        "\n",
        "workflow=StateGraph(AgentState)\n",
        "\n",
        "workflow.add_node(\"agent\",invoke_agent)\n",
        "workflow.add_node(\"action\",execute_tools)\n",
        "\n",
        "workflow.add_edge(START,\"agent\")\n",
        "\n",
        "workflow.add_conditional_edges(\n",
        "    \"agent\",\n",
        "    should_continue,\n",
        "    {\n",
        "        \"continue\":\"action\",\n",
        "        \"end\":END\n",
        "    }\n",
        ")\n",
        "workflow.add_edge(\"action\",\"agent\")\n",
        "\n",
        "app=workflow.compile()"
      ],
      "metadata": {
        "id": "4WxCyrj0jPiT"
      },
      "execution_count": null,
      "outputs": []
    },
    {
      "cell_type": "code",
      "source": [
        "inputs = {\"input\": \"what is the weather in Kolkata, India\", \"chat_history\": []}\n",
        "for s in app.stream(inputs):\n",
        "    print(list(s.values())[0])\n",
        "    print(\"----\")"
      ],
      "metadata": {
        "colab": {
          "base_uri": "https://localhost:8080/"
        },
        "id": "t-ErViW4kUhp",
        "outputId": "b9fa160c-2ea7-4a46-bae4-869a495166b1"
      },
      "execution_count": null,
      "outputs": [
        {
          "output_type": "stream",
          "name": "stdout",
          "text": [
            "{'agent_outcome': AgentActionMessageLog(tool='tavily_search_results_json', tool_input={'query': 'weather in Kolkata, India'}, log=\"\\nInvoking: `tavily_search_results_json` with `{'query': 'weather in Kolkata, India'}`\\n\\n\\n\", message_log=[AIMessage(content='', additional_kwargs={'function_call': {'arguments': '{\"query\":\"weather in Kolkata, India\"}', 'name': 'tavily_search_results_json'}}, response_metadata={'token_usage': {'completion_tokens': 88, 'prompt_tokens': 1002, 'total_tokens': 1090, 'completion_time': 0.100125056, 'prompt_time': 0.604120906, 'queue_time': None, 'total_time': 0.704245962}, 'model_name': 'gemma-7b-it', 'system_fingerprint': 'fp_7d8efeb0b1', 'finish_reason': 'function_call', 'logprobs': None}, id='run-55c30b62-e3b0-4b33-aae9-fb0299939ddc-0', usage_metadata={'input_tokens': 1002, 'output_tokens': 88, 'total_tokens': 1090})])}\n",
            "----\n",
            "{'intermediate_steps': [(AgentActionMessageLog(tool='tavily_search_results_json', tool_input={'query': 'weather in Kolkata, India'}, log=\"\\nInvoking: `tavily_search_results_json` with `{'query': 'weather in Kolkata, India'}`\\n\\n\\n\", message_log=[AIMessage(content='', additional_kwargs={'function_call': {'arguments': '{\"query\":\"weather in Kolkata, India\"}', 'name': 'tavily_search_results_json'}}, response_metadata={'token_usage': {'completion_tokens': 88, 'prompt_tokens': 1002, 'total_tokens': 1090, 'completion_time': 0.100125056, 'prompt_time': 0.604120906, 'queue_time': None, 'total_time': 0.704245962}, 'model_name': 'gemma-7b-it', 'system_fingerprint': 'fp_7d8efeb0b1', 'finish_reason': 'function_call', 'logprobs': None}, id='run-55c30b62-e3b0-4b33-aae9-fb0299939ddc-0', usage_metadata={'input_tokens': 1002, 'output_tokens': 88, 'total_tokens': 1090})]), '[{\\'url\\': \\'https://www.weatherapi.com/\\', \\'content\\': \"{\\'location\\': {\\'name\\': \\'Kolkata\\', \\'region\\': \\'West Bengal\\', \\'country\\': \\'India\\', \\'lat\\': 22.57, \\'lon\\': 88.37, \\'tz_id\\': \\'Asia/Kolkata\\', \\'localtime_epoch\\': 1721185394, \\'localtime\\': \\'2024-07-17 8:33\\'}, \\'current\\': {\\'last_updated_epoch\\': 1721185200, \\'last_updated\\': \\'2024-07-17 08:30\\', \\'temp_c\\': 31.3, \\'temp_f\\': 88.3, \\'is_day\\': 1, \\'condition\\': {\\'text\\': \\'Mist\\', \\'icon\\': \\'//cdn.weatherapi.com/weather/64x64/day/143.png\\', \\'code\\': 1030}, \\'wind_mph\\': 8.1, \\'wind_kph\\': 13.0, \\'wind_degree\\': 100, \\'wind_dir\\': \\'E\\', \\'pressure_mb\\': 1001.0, \\'pressure_in\\': 29.56, \\'precip_mm\\': 0.55, \\'precip_in\\': 0.02, \\'humidity\\': 84, \\'cloud\\': 50, \\'feelslike_c\\': 38.5, \\'feelslike_f\\': 101.2, \\'windchill_c\\': 31.2, \\'windchill_f\\': 88.1, \\'heatindex_c\\': 38.1, \\'heatindex_f\\': 100.6, \\'dewpoint_c\\': 25.3, \\'dewpoint_f\\': 77.5, \\'vis_km\\': 4.0, \\'vis_miles\\': 2.0, \\'uv\\': 7.0, \\'gust_mph\\': 11.1, \\'gust_kph\\': 17.9}}\"}]')]}\n",
            "----\n",
            "{'agent_outcome': AgentFinish(return_values={'output': 'The current weather in Kolkata, India is:\\n\\n**Temperature:** 31.3°C (88.3°F)\\n**Condition:** Mist\\n**Wind:** E, 8.1 mph (13.0 kph)\\n**Humidity:** 84%\\n\\nFor more detailed information, please refer to the provided result.'}, log='The current weather in Kolkata, India is:\\n\\n**Temperature:** 31.3°C (88.3°F)\\n**Condition:** Mist\\n**Wind:** E, 8.1 mph (13.0 kph)\\n**Humidity:** 84%\\n\\nFor more detailed information, please refer to the provided result.')}\n",
            "----\n"
          ]
        }
      ]
    },
    {
      "cell_type": "code",
      "source": [],
      "metadata": {
        "id": "sSG_XuPnkc71"
      },
      "execution_count": null,
      "outputs": []
    }
  ]
}